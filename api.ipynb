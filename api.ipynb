{
 "cells": [
  {
   "cell_type": "code",
   "id": "initial_id",
   "metadata": {
    "collapsed": true,
    "ExecuteTime": {
     "end_time": "2025-04-24T09:18:51.202705Z",
     "start_time": "2025-04-24T09:18:51.176640Z"
    }
   },
   "source": [
    "import requests\n",
    "import xmltodict\n",
    "import json\n",
    "from dotenv import load_dotenv\n",
    "import os"
   ],
   "outputs": [],
   "execution_count": 12
  },
  {
   "metadata": {
    "ExecuteTime": {
     "end_time": "2025-04-24T09:18:52.169307Z",
     "start_time": "2025-04-24T09:18:52.161271Z"
    }
   },
   "cell_type": "code",
   "source": [
    "# dotenv load, api key 입력\n",
    "load_dotenv()\n",
    "access_key = os.getenv(\"KIPRIS_API_KEY\")"
   ],
   "id": "609aa8249cb8755f",
   "outputs": [],
   "execution_count": 13
  },
  {
   "metadata": {
    "ExecuteTime": {
     "end_time": "2025-04-24T09:23:05.622626Z",
     "start_time": "2025-04-24T09:23:05.615043Z"
    }
   },
   "cell_type": "code",
   "source": [
    "# 검색 파라미터 6개 - 검색단어(필수), 검색년도범위(필수), 특허, 실용, 페이지당건수, 페이지번호\n",
    "search_word = \"인공지능\"\n",
    "year = 0              # 0이면 전체년도\n",
    "patent = \"Y\"          # 특허 포함 여부\n",
    "utility = \"Y\"         # 실용신안 포함 여부\n",
    "num_of_rows = 3      # 한 페이지당 건수\n",
    "page_no = 1           # 페이지 번호\n",
    "\n",
    "url = (\n",
    "  f\"http://plus.kipris.or.kr/kipo-api/kipi/patUtiModInfoSearchSevice/getWordSearch\"\n",
    "  f\"?word={search_word}\"\n",
    "  f\"&year={year}\"\n",
    "  f\"&patent={patent}\"\n",
    "  f\"&utility={utility}\"\n",
    "  f\"&numOfRows={num_of_rows}\"\n",
    "  f\"&pageNo={page_no}\"\n",
    "  f\"&ServiceKey={access_key}\"\n",
    ")"
   ],
   "id": "fc8e1412ddb96c4d",
   "outputs": [],
   "execution_count": 18
  },
  {
   "metadata": {
    "ExecuteTime": {
     "end_time": "2025-04-24T09:27:03.477657Z",
     "start_time": "2025-04-24T09:27:02.587667Z"
    }
   },
   "cell_type": "code",
   "source": [
    "# API 요청\n",
    "response = requests.get(url)\n",
    "\n",
    "# 응답 성공 시\n",
    "if response.status_code == 200:\n",
    "  # xml to dict\n",
    "  xml_data = xmltodict.parse(response.content)\n",
    "\n",
    "  # dict to JSON\n",
    "  json_data = json.dumps(xml_data, ensure_ascii=False, indent=2)\n",
    "\n",
    "  # 출력\n",
    "  print(json_data)\n",
    "\n",
    "  # 예시: JSON 데이터에서 발명명과 출원번호만 출력\n",
    "  items = xml_data['response']['body']['items']['item']\n",
    "  for item in items:\n",
    "    print(f\"📌 번호: {item['indexNo']}\\n\")\n",
    "    print(f\"📄 발명명: {item['inventionTitle']}\")\n",
    "    print(f\"📌 출원번호: {item['applicationNumber']}\\n\")\n",
    "    print(f\"📌 특허내용: {item['astrtCont']}\\n\")\n",
    "    print(f\"📌 특허등록상태: {item['registerStatus']}\\n\")\n",
    "else:\n",
    "  print(\"❌ API 요청 실패:\", response.status_code)"
   ],
   "id": "ad580c3aa9cb5aa",
   "outputs": [
    {
     "name": "stdout",
     "output_type": "stream",
     "text": [
      "{\n",
      "  \"response\": {\n",
      "    \"header\": {\n",
      "      \"requestMsgID\": null,\n",
      "      \"responseTime\": \"2025-04-24 18:27:02.272\",\n",
      "      \"responseMsgID\": null,\n",
      "      \"successYN\": \"Y\",\n",
      "      \"resultCode\": \"00\",\n",
      "      \"resultMsg\": \"NORMAL SERVICE.\"\n",
      "    },\n",
      "    \"body\": {\n",
      "      \"items\": {\n",
      "        \"item\": [\n",
      "          {\n",
      "            \"applicantName\": \"서울시립대학교 산학협력단\",\n",
      "            \"applicationDate\": \"20220328\",\n",
      "            \"applicationNumber\": \"1020220037790\",\n",
      "            \"astrtCont\": \"인공지능 모델 생성 장치 및 방법이 제공된다. 상기 인공지능 모델 생성 장치는 제1 및 제2 입력 데이터가 제공되는 입력 모듈, 제1 및 제2 웨이트 데이터가 저장되는 저장 모듈, 상기 제1 입력 데이터와 상기 제1 웨이트 데이터를 이용하여 제1 연산 데이터를 생성하고, 상기 제2 입력 데이터와 상기 제2 웨이트 데이터를 이용하여 제2 연산 데이터를 생성하는 연산 모듈, 상기 제1 연산 데이터를 이용하여 제1 출력 데이터를 생성하고, 상기 제2 연산 데이터를 이용하여 제2 출력 데이터를 생성하는 출력 모듈, 상기 제1 출력 데이터와 제1 정답 데이터를 비교하여, 상기 제1 출력 데이터의 오류 값을 결정하고, 상기 제1 출력 데이터의 오류 값에 따라 상기 연산 모듈에 제1 피드백 데이터를 제공하는 오류 결정 모듈 및 제1 및 제2 랜덤 계수를 생성하고, 상기 제1 및 제2 웨이트 데이터와 상기 제1 및 제2 랜덤 계수를 이용하여 제1 조합 웨이트 데이터를 생성하는 웨이트 조합 모듈을 포함하되, 상기 제2 웨이트 데이터는 상기 제1 웨이트 데이터와 상기 제1 피드백 데이터를 이용하여 생성된다.\",\n",
      "            \"bigDrawing\": \"http://plus.kipris.or.kr/kiprisplusws/fileToss.jsp?arg=6c650beb4cee9ce4122b704b88878c931c9e99fc41e1d7d9b020dc99ab62e0d14fb6ca2e375774c23392d78d3ca8b1f726bca4a529fc3c460da1910eecd937e319010c034c75da18\",\n",
      "            \"drawing\": \"http://plus.kipris.or.kr/kiprisplusws/fileToss.jsp?arg=ed43a0609e94d6e22d01c5c32ba711cf5ccc5c8f47f06ff86851a81f07f2279c346d5bbb178a17ede525e75d69ca5d5fd7f9d0545a928674edd6e5b7896aadbd995a0dbb39b9f1bd\",\n",
      "            \"indexNo\": \"1\",\n",
      "            \"inventionTitle\": \"인공지능 모델 생성 장치 및 방법\",\n",
      "            \"ipcNumber\": \"G06N 3/08|G06N 20/20|G06N 3/063\",\n",
      "            \"openDate\": \"20231006\",\n",
      "            \"openNumber\": \"1020230139920\",\n",
      "            \"publicationDate\": null,\n",
      "            \"publicationNumber\": null,\n",
      "            \"registerDate\": null,\n",
      "            \"registerNumber\": null,\n",
      "            \"registerStatus\": \"공개\"\n",
      "          },\n",
      "          {\n",
      "            \"applicantName\": \"주식회사 코난테크놀로지\",\n",
      "            \"applicationDate\": \"20220425\",\n",
      "            \"applicationNumber\": \"1020220050914\",\n",
      "            \"astrtCont\": \"통합 인공지능 학습 프레임워크 시스템이 개시된다. 일 실시 예에 따른 통합 인공지능 학습 프레임워크 시스템은, 소정의 인공지능 학습 프레임워크에서 작성된 명령어를 동작할 인공지능 학습 프레임워크를 결정하고 결정된 인공지능 학습 프레임워크에서 동작할 인공지능 학습부를 생성하는 제어기와 복수의 인공지능 학습부를 포함하며, 각 인공지능 학습부는, 제어기에서 수신한 명령어를 해석하고, 해석된 명령어를 해당 프레임워크에서 동작 가능하도록 변환하는 해석기와, 해석기에서 변환된 명령어를 실행하는 실행기와, 명령어에 따라 작업을 수행하는 복수의 작업기를 포함한다.\",\n",
      "            \"bigDrawing\": \"http://plus.kipris.or.kr/kiprisplusws/fileToss.jsp?arg=6c650beb4cee9ce4122b704b88878c93aa4a1a423f8da3b0a569b94e39b42cc72ce94615a117ceb7eec0f08faa2ef96ee6d9fa26e559fb037b9b1aeee15a61fdf0af855a86cbffdd\",\n",
      "            \"drawing\": \"http://plus.kipris.or.kr/kiprisplusws/fileToss.jsp?arg=ed43a0609e94d6e22d01c5c32ba711cf417901b07c7a3e7c8a28c321302f12060a299c47d8572a3f3628d69bdcf884edc6b46be01a4882c5bef5533d102b83e8a6c40a9c47c05a16\",\n",
      "            \"indexNo\": \"2\",\n",
      "            \"inventionTitle\": \"통합 인공지능 학습 프레임워크 시스템 및 그 방법\",\n",
      "            \"ipcNumber\": \"G06N 20/20\",\n",
      "            \"openDate\": \"20231101\",\n",
      "            \"openNumber\": \"1020230151336\",\n",
      "            \"publicationDate\": null,\n",
      "            \"publicationNumber\": null,\n",
      "            \"registerDate\": null,\n",
      "            \"registerNumber\": null,\n",
      "            \"registerStatus\": \"공개\"\n",
      "          },\n",
      "          {\n",
      "            \"applicantName\": \"한국과학기술원\",\n",
      "            \"applicationDate\": \"20221216\",\n",
      "            \"applicationNumber\": \"1020220176909\",\n",
      "            \"astrtCont\": \"본 발명은 플러그 앤 플레이 방식 기반의 인공지능 모델에 대한 설명 제공 방법에 관한 것이다.  본 발명에 따른 플러그 앤 플레이 방식 기반의 인공지능 모델에 대한 설명 제공 방법은, 서비스 제공업체 서버의 제어부가 인공지능 모델과 설명 모듈 간의 통신을 위해 각 설명 모듈이 잘 설명할 수 있는 인공지능 모델의 종류를 설정하는 단계; 설명이 요구되는 인공지능 모델이 입력되면, 플러그 앤 플레이 매니저가 인공지능 모델의 제조사, 프레임워크, 종류를 인지하는 단계; 플러그 앤 플레이 매니저가 인지 결과를 기반으로 설명 모듈의 제약 조건을 감안하여 사용 가능한 설명 모듈의 목록을 작성하는 단계; 서비스 제공업체 서버가 사용 가능한 설명 모듈의 목록에 있는 설명 모듈들에 대한 주요 사항을 사용자 단말기로 제공하는 단계; 사용자 단말기가 목록에 있는 설명 모듈들에 대한 주요 사항을 참조로 목록상의 설명 모듈들 중 하나를 선택하여 서비스 제공업체 서버로 제공하는 단계; 플러그 앤 플레이 매니저가 사용자 단말기에 의해 선택된 설명 모듈을 목록에 있는 설명 모듈들 중에서 도출하는 단계; 및 도출된 설명 모듈이 입력된 인공지능 모델에 대한 설명을 사용자 단말기로 제공하는 단계를 포함한다.\",\n",
      "            \"bigDrawing\": \"http://plus.kipris.or.kr/kiprisplusws/fileToss.jsp?arg=6c650beb4cee9ce4122b704b88878c931b3323467b072be7573d69e49af03c18edee38e52232efeb5319bb1e6f91d86c5d1f185afb109b9c3e633613c5060d6672ac7ca60886aefb\",\n",
      "            \"drawing\": \"http://plus.kipris.or.kr/kiprisplusws/fileToss.jsp?arg=ed43a0609e94d6e22d01c5c32ba711cf91ef38f15fa79abf9bc2b87f7e6a2dc8168aa729fc1a01385d406a11f6fbd7fa3e10d444e75a0a55f56cf7990fd7f8e03b9c2fc9e762abb4\",\n",
      "            \"indexNo\": \"3\",\n",
      "            \"inventionTitle\": \"플러그 앤 플레이 방식 기반의 인공지능 모델에 대한 설명 제공 방법\",\n",
      "            \"ipcNumber\": \"G06N 3/10|G06F 9/4401\",\n",
      "            \"openDate\": \"20240626\",\n",
      "            \"openNumber\": \"1020240095615\",\n",
      "            \"publicationDate\": null,\n",
      "            \"publicationNumber\": null,\n",
      "            \"registerDate\": null,\n",
      "            \"registerNumber\": null,\n",
      "            \"registerStatus\": \"공개\"\n",
      "          }\n",
      "        ]\n",
      "      }\n",
      "    },\n",
      "    \"count\": {\n",
      "      \"numOfRows\": \"3\",\n",
      "      \"pageNo\": \"1\",\n",
      "      \"totalCount\": \"84625\"\n",
      "    }\n",
      "  }\n",
      "}\n",
      "📌 번호: 1\n",
      "\n",
      "📄 발명명: 인공지능 모델 생성 장치 및 방법\n",
      "📌 출원번호: 1020220037790\n",
      "\n",
      "📌 특허내용: 인공지능 모델 생성 장치 및 방법이 제공된다. 상기 인공지능 모델 생성 장치는 제1 및 제2 입력 데이터가 제공되는 입력 모듈, 제1 및 제2 웨이트 데이터가 저장되는 저장 모듈, 상기 제1 입력 데이터와 상기 제1 웨이트 데이터를 이용하여 제1 연산 데이터를 생성하고, 상기 제2 입력 데이터와 상기 제2 웨이트 데이터를 이용하여 제2 연산 데이터를 생성하는 연산 모듈, 상기 제1 연산 데이터를 이용하여 제1 출력 데이터를 생성하고, 상기 제2 연산 데이터를 이용하여 제2 출력 데이터를 생성하는 출력 모듈, 상기 제1 출력 데이터와 제1 정답 데이터를 비교하여, 상기 제1 출력 데이터의 오류 값을 결정하고, 상기 제1 출력 데이터의 오류 값에 따라 상기 연산 모듈에 제1 피드백 데이터를 제공하는 오류 결정 모듈 및 제1 및 제2 랜덤 계수를 생성하고, 상기 제1 및 제2 웨이트 데이터와 상기 제1 및 제2 랜덤 계수를 이용하여 제1 조합 웨이트 데이터를 생성하는 웨이트 조합 모듈을 포함하되, 상기 제2 웨이트 데이터는 상기 제1 웨이트 데이터와 상기 제1 피드백 데이터를 이용하여 생성된다.\n",
      "\n",
      "📌 특허등록상태: 공개\n",
      "\n",
      "📌 번호: 2\n",
      "\n",
      "📄 발명명: 통합 인공지능 학습 프레임워크 시스템 및 그 방법\n",
      "📌 출원번호: 1020220050914\n",
      "\n",
      "📌 특허내용: 통합 인공지능 학습 프레임워크 시스템이 개시된다. 일 실시 예에 따른 통합 인공지능 학습 프레임워크 시스템은, 소정의 인공지능 학습 프레임워크에서 작성된 명령어를 동작할 인공지능 학습 프레임워크를 결정하고 결정된 인공지능 학습 프레임워크에서 동작할 인공지능 학습부를 생성하는 제어기와 복수의 인공지능 학습부를 포함하며, 각 인공지능 학습부는, 제어기에서 수신한 명령어를 해석하고, 해석된 명령어를 해당 프레임워크에서 동작 가능하도록 변환하는 해석기와, 해석기에서 변환된 명령어를 실행하는 실행기와, 명령어에 따라 작업을 수행하는 복수의 작업기를 포함한다.\n",
      "\n",
      "📌 특허등록상태: 공개\n",
      "\n",
      "📌 번호: 3\n",
      "\n",
      "📄 발명명: 플러그 앤 플레이 방식 기반의 인공지능 모델에 대한 설명 제공 방법\n",
      "📌 출원번호: 1020220176909\n",
      "\n",
      "📌 특허내용: 본 발명은 플러그 앤 플레이 방식 기반의 인공지능 모델에 대한 설명 제공 방법에 관한 것이다.  본 발명에 따른 플러그 앤 플레이 방식 기반의 인공지능 모델에 대한 설명 제공 방법은, 서비스 제공업체 서버의 제어부가 인공지능 모델과 설명 모듈 간의 통신을 위해 각 설명 모듈이 잘 설명할 수 있는 인공지능 모델의 종류를 설정하는 단계; 설명이 요구되는 인공지능 모델이 입력되면, 플러그 앤 플레이 매니저가 인공지능 모델의 제조사, 프레임워크, 종류를 인지하는 단계; 플러그 앤 플레이 매니저가 인지 결과를 기반으로 설명 모듈의 제약 조건을 감안하여 사용 가능한 설명 모듈의 목록을 작성하는 단계; 서비스 제공업체 서버가 사용 가능한 설명 모듈의 목록에 있는 설명 모듈들에 대한 주요 사항을 사용자 단말기로 제공하는 단계; 사용자 단말기가 목록에 있는 설명 모듈들에 대한 주요 사항을 참조로 목록상의 설명 모듈들 중 하나를 선택하여 서비스 제공업체 서버로 제공하는 단계; 플러그 앤 플레이 매니저가 사용자 단말기에 의해 선택된 설명 모듈을 목록에 있는 설명 모듈들 중에서 도출하는 단계; 및 도출된 설명 모듈이 입력된 인공지능 모델에 대한 설명을 사용자 단말기로 제공하는 단계를 포함한다.\n",
      "\n",
      "📌 특허등록상태: 공개\n",
      "\n"
     ]
    }
   ],
   "execution_count": 21
  }
 ],
 "metadata": {
  "kernelspec": {
   "display_name": "Python 3",
   "language": "python",
   "name": "python3"
  },
  "language_info": {
   "codemirror_mode": {
    "name": "ipython",
    "version": 2
   },
   "file_extension": ".py",
   "mimetype": "text/x-python",
   "name": "python",
   "nbconvert_exporter": "python",
   "pygments_lexer": "ipython2",
   "version": "2.7.6"
  }
 },
 "nbformat": 4,
 "nbformat_minor": 5
}
